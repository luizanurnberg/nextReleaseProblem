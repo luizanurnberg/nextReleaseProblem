{
 "cells": [
  {
   "cell_type": "code",
   "execution_count": 4,
   "id": "0c2689e1-04d0-4f9c-a91d-b104c5b2b2d2",
   "metadata": {},
   "outputs": [],
   "source": [
    "# Importação do Pyomo\n",
    "from pyomo.environ import *"
   ]
  },
  {
   "cell_type": "code",
   "execution_count": 5,
   "id": "8148a45d-705c-4946-b54d-06af70e7a36b",
   "metadata": {},
   "outputs": [],
   "source": [
    "model = ConcreteModel()"
   ]
  },
  {
   "cell_type": "code",
   "execution_count": 6,
   "id": "d83963ef-5553-4d86-bd75-03329bbf41cb",
   "metadata": {},
   "outputs": [],
   "source": [
    "# Dados do problema\n",
    "n = 10 # quantidade de clientes\n",
    "w = [0] * n # peso \n",
    "c = [0] * n # custo de cada requisito\n",
    "B = 10"
   ]
  },
  {
   "cell_type": "code",
   "execution_count": 7,
   "id": "c2a3d506",
   "metadata": {},
   "outputs": [],
   "source": [
    "# Instâncias\n",
    "n = 5\n",
    "w = [1, 3, 2, 2, 5]\n",
    "c = [10, 15, 3, 7, 18]\n",
    "B = 25"
   ]
  },
  {
   "cell_type": "code",
   "execution_count": 8,
   "id": "a2278fb3-ea3e-40ca-88f5-f5dcc5bba51a",
   "metadata": {},
   "outputs": [],
   "source": [
    "# Variáveis de Decisão\n",
    "model.x = Var(range(n), domain=Binary) # cliente selecionado"
   ]
  },
  {
   "cell_type": "code",
   "execution_count": 9,
   "id": "ec20f3bb-eba3-4855-88bb-e721a1102289",
   "metadata": {},
   "outputs": [],
   "source": [
    "# Função Objetivo\n",
    "model.obj = Objective(expr =  sum(model.x[i]*w[i] for i in range(n)), sense = maximize)"
   ]
  },
  {
   "cell_type": "code",
   "execution_count": 10,
   "id": "13f14a5e-3a69-411d-a62a-32407e4d7ad5",
   "metadata": {},
   "outputs": [
    {
     "name": "stdout",
     "output_type": "stream",
     "text": [
      "WARNING: Could not locate the 'glpsol' executable, which is required for\n",
      "solver 'glpk'\n"
     ]
    },
    {
     "ename": "ApplicationError",
     "evalue": "No executable found for solver 'glpk'",
     "output_type": "error",
     "traceback": [
      "\u001b[1;31m---------------------------------------------------------------------------\u001b[0m",
      "\u001b[1;31mApplicationError\u001b[0m                          Traceback (most recent call last)",
      "Cell \u001b[1;32mIn[10], line 5\u001b[0m\n\u001b[0;32m      3\u001b[0m \u001b[38;5;66;03m# Resolve o modelo\u001b[39;00m\n\u001b[0;32m      4\u001b[0m solver \u001b[38;5;241m=\u001b[39m SolverFactory(\u001b[38;5;124m'\u001b[39m\u001b[38;5;124mglpk\u001b[39m\u001b[38;5;124m'\u001b[39m)\n\u001b[1;32m----> 5\u001b[0m results \u001b[38;5;241m=\u001b[39m \u001b[43msolver\u001b[49m\u001b[38;5;241;43m.\u001b[39;49m\u001b[43msolve\u001b[49m\u001b[43m(\u001b[49m\u001b[43mmodel\u001b[49m\u001b[43m)\u001b[49m\n\u001b[0;32m      7\u001b[0m \u001b[38;5;66;03m# Verifica se a solução foi encontrada com sucesso\u001b[39;00m\n\u001b[0;32m      8\u001b[0m \u001b[38;5;28;01mif\u001b[39;00m results\u001b[38;5;241m.\u001b[39msolver\u001b[38;5;241m.\u001b[39mstatus \u001b[38;5;241m==\u001b[39m SolverStatus\u001b[38;5;241m.\u001b[39mok \u001b[38;5;129;01mand\u001b[39;00m results\u001b[38;5;241m.\u001b[39msolver\u001b[38;5;241m.\u001b[39mtermination_condition \u001b[38;5;241m==\u001b[39m TerminationCondition\u001b[38;5;241m.\u001b[39moptimal:\n",
      "File \u001b[1;32m~\\AppData\\Local\\Programs\\Python\\Python311\\Lib\\site-packages\\pyomo\\opt\\base\\solvers.py:533\u001b[0m, in \u001b[0;36mOptSolver.solve\u001b[1;34m(self, *args, **kwds)\u001b[0m\n\u001b[0;32m    530\u001b[0m \u001b[38;5;28;01mdef\u001b[39;00m \u001b[38;5;21msolve\u001b[39m(\u001b[38;5;28mself\u001b[39m, \u001b[38;5;241m*\u001b[39margs, \u001b[38;5;241m*\u001b[39m\u001b[38;5;241m*\u001b[39mkwds):\n\u001b[0;32m    531\u001b[0m \u001b[38;5;250m    \u001b[39m\u001b[38;5;124;03m\"\"\"Solve the problem\"\"\"\u001b[39;00m\n\u001b[1;32m--> 533\u001b[0m     \u001b[38;5;28;43mself\u001b[39;49m\u001b[38;5;241;43m.\u001b[39;49m\u001b[43mavailable\u001b[49m\u001b[43m(\u001b[49m\u001b[43mexception_flag\u001b[49m\u001b[38;5;241;43m=\u001b[39;49m\u001b[38;5;28;43;01mTrue\u001b[39;49;00m\u001b[43m)\u001b[49m\n\u001b[0;32m    534\u001b[0m     \u001b[38;5;66;03m#\u001b[39;00m\n\u001b[0;32m    535\u001b[0m     \u001b[38;5;66;03m# If the inputs are models, then validate that they have been\u001b[39;00m\n\u001b[0;32m    536\u001b[0m     \u001b[38;5;66;03m# constructed! Collect suffix names to try and import from solution.\u001b[39;00m\n\u001b[0;32m    537\u001b[0m     \u001b[38;5;66;03m#\u001b[39;00m\n\u001b[0;32m    538\u001b[0m     \u001b[38;5;28;01mfrom\u001b[39;00m \u001b[38;5;21;01mpyomo\u001b[39;00m\u001b[38;5;21;01m.\u001b[39;00m\u001b[38;5;21;01mcore\u001b[39;00m\u001b[38;5;21;01m.\u001b[39;00m\u001b[38;5;21;01mbase\u001b[39;00m\u001b[38;5;21;01m.\u001b[39;00m\u001b[38;5;21;01mblock\u001b[39;00m \u001b[38;5;28;01mimport\u001b[39;00m _BlockData\n",
      "File \u001b[1;32m~\\AppData\\Local\\Programs\\Python\\Python311\\Lib\\site-packages\\pyomo\\opt\\solver\\shellcmd.py:141\u001b[0m, in \u001b[0;36mSystemCallSolver.available\u001b[1;34m(self, exception_flag)\u001b[0m\n\u001b[0;32m    139\u001b[0m     \u001b[38;5;28;01mif\u001b[39;00m exception_flag:\n\u001b[0;32m    140\u001b[0m         msg \u001b[38;5;241m=\u001b[39m \u001b[38;5;124m\"\u001b[39m\u001b[38;5;124mNo executable found for solver \u001b[39m\u001b[38;5;124m'\u001b[39m\u001b[38;5;132;01m%s\u001b[39;00m\u001b[38;5;124m'\u001b[39m\u001b[38;5;124m\"\u001b[39m\n\u001b[1;32m--> 141\u001b[0m         \u001b[38;5;28;01mraise\u001b[39;00m ApplicationError(msg \u001b[38;5;241m%\u001b[39m \u001b[38;5;28mself\u001b[39m\u001b[38;5;241m.\u001b[39mname)\n\u001b[0;32m    142\u001b[0m     \u001b[38;5;28;01mreturn\u001b[39;00m \u001b[38;5;28;01mFalse\u001b[39;00m\n\u001b[0;32m    143\u001b[0m \u001b[38;5;28;01mreturn\u001b[39;00m \u001b[38;5;28;01mTrue\u001b[39;00m\n",
      "\u001b[1;31mApplicationError\u001b[0m: No executable found for solver 'glpk'"
     ]
    }
   ],
   "source": [
    "# Restrição de Limitação de Custo\n",
    "model.costTotalConstraint = Constraint(expr = sum(model.x[i] * c[i] for i in range(n)) <= B)\n",
    "\n",
    "# Resolve o modelo\n",
    "solver = SolverFactory('glpk')\n",
    "results = solver.solve(model)\n",
    "\n",
    "# Verifica se a solução foi encontrada com sucesso\n",
    "if results.solver.status == SolverStatus.ok and results.solver.termination_condition == TerminationCondition.optimal:\n",
    "    print(\"O solver encontrou solução ótima.\")\n",
    "else:\n",
    "    print(\"O solver não encontrou uma solução ótima.\")"
   ]
  },
  {
   "cell_type": "code",
   "execution_count": null,
   "id": "9cb1e794-4c0a-4587-a18d-43d566cfd480",
   "metadata": {},
   "outputs": [],
   "source": []
  }
 ],
 "metadata": {
  "kernelspec": {
   "display_name": "Python 3 (ipykernel)",
   "language": "python",
   "name": "python3"
  },
  "language_info": {
   "codemirror_mode": {
    "name": "ipython",
    "version": 3
   },
   "file_extension": ".py",
   "mimetype": "text/x-python",
   "name": "python",
   "nbconvert_exporter": "python",
   "pygments_lexer": "ipython3",
   "version": "3.11.4"
  }
 },
 "nbformat": 4,
 "nbformat_minor": 5
}
