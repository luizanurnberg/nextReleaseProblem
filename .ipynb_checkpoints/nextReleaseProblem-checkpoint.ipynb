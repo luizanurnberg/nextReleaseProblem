{
 "cells": [
  {
   "cell_type": "code",
   "execution_count": 336,
   "id": "0c2689e1-04d0-4f9c-a91d-b104c5b2b2d2",
   "metadata": {},
   "outputs": [],
   "source": [
    "# Importação do Pyomo\n",
    "from pyomo.environ import *"
   ]
  },
  {
   "cell_type": "code",
   "execution_count": 337,
   "id": "8148a45d-705c-4946-b54d-06af70e7a36b",
   "metadata": {},
   "outputs": [],
   "source": [
    "model = ConcreteModel()"
   ]
  },
  {
   "cell_type": "code",
   "execution_count": 338,
   "id": "d83963ef-5553-4d86-bd75-03329bbf41cb",
   "metadata": {},
   "outputs": [],
   "source": [
    "# Dados do problema\n",
    "n = 5 # Quantidade de clientes\n",
    "m = 20 # Quantidade de requisitos\n",
    "v = [0] * n # Importância do cliente para a empresa\n",
    "c = [0] * m # Custo de cada requisito\n",
    "L = 5 # Limitação do custo de implementação da empresa\n",
    "dm = [[0] * m for _ in range(m)] # Matriz de associação de requisitos\n",
    "cm = [[0] * m for _ in range(n)] # Matriz de associação de clientes"
   ]
  },
  {
   "cell_type": "code",
   "execution_count": 339,
   "id": "a2278fb3-ea3e-40ca-88f5-f5dcc5bba51a",
   "metadata": {},
   "outputs": [],
   "source": [
    "# Variáveis de Decisão\n",
    "model.x = Var(range(m), domain=Binary) # Requisito implementado\n",
    "model.y = Var(range(n), domain=Binary) # Cliente a ser atendido"
   ]
  },
  {
   "cell_type": "code",
   "execution_count": 340,
   "id": "c2a3d506",
   "metadata": {},
   "outputs": [],
   "source": [
    "# Instâncias\n",
    "v = [4, 4, 3, 5, 5]\n",
    "c = [1, 4, 2, 3, 4, 7, 10, 2, 1, 3, 2, 5, 8, 2, 1, 4, 10, 4, 8, 4]\n",
    "L = 100\n",
    "dm = [\n",
    "    [1, 0, 0, 0, 0, 0, 0, 0, 0, 0, 0, 0, 0, 0, 0, 0, 0, 0, 0, 0],  # Requisito 1\n",
    "    [0, 1, 0, 0, 0, 0, 0, 0, 0, 0, 0, 0, 0, 0, 0, 0, 0, 0, 0, 0],  # Requisito 2\n",
    "    [0, 0, 1, 0, 0, 0, 0, 0, 0, 0, 0, 0, 0, 0, 0, 0, 0, 0, 0, 0],  # Requisito 3\n",
    "    [0, 0, 0, 1, 0, 0, 0, 0, 0, 0, 0, 0, 0, 0, 0, 0, 0, 0, 0, 0],  # Requisito 4\n",
    "    [0, 0, 0, 0, 1, 0, 0, 0, 0, 0, 0, 0, 0, 0, 0, 0, 0, 0, 0, 0],  # Requisito 5\n",
    "    [0, 0, 0, 0, 0, 1, 0, 0, 0, 0, 0, 0, 0, 0, 0, 0, 0, 0, 0, 0],  # Requisito 6\n",
    "    [0, 0, 0, 0, 0, 0, 1, 0, 0, 0, 0, 0, 0, 0, 0, 0, 0, 0, 0, 0],  # Requisito 7\n",
    "    [0, 0, 0, 0, 0, 0, 0, 1, 0, 0, 0, 0, 0, 0, 0, 0, 0, 0, 0, 0],  # Requisito 8\n",
    "    [0, 0, 0, 0, 0, 0, 0, 0, 1, 0, 0, 0, 0, 0, 0, 0, 0, 0, 0, 0],  # Requisito 9\n",
    "    [0, 0, 0, 0, 0, 0, 0, 0, 0, 1, 0, 0, 0, 0, 0, 0, 0, 0, 0, 0],  # Requisito 10\n",
    "    [0, 0, 0, 0, 0, 0, 0, 0, 0, 0, 1, 0, 0, 0, 0, 0, 0, 0, 0, 0],  # Requisito 11\n",
    "    [0, 0, 0, 0, 0, 0, 0, 0, 0, 0, 0, 1, 0, 0, 0, 0, 0, 0, 0, 0],  # Requisito 12\n",
    "    [0, 0, 0, 0, 0, 0, 0, 0, 0, 0, 0, 0, 1, 0, 0, 0, 0, 0, 0, 0],  # Requisito 13\n",
    "    [0, 0, 0, 0, 0, 0, 0, 0, 0, 0, 0, 0, 0, 1, 0, 0, 0, 0, 0, 0],  # Requisito 14\n",
    "    [0, 0, 0, 0, 0, 0, 0, 0, 0, 0, 0, 0, 0, 0, 1, 0, 0, 0, 0, 0],  # Requisito 15\n",
    "    [0, 0, 0, 0, 0, 0, 0, 0, 0, 0, 0, 0, 0, 0, 0, 1, 0, 0, 0, 0],  # Requisito 16\n",
    "    [0, 0, 0, 0, 0, 0, 0, 0, 0, 0, 0, 0, 0, 0, 0, 0, 1, 0, 0, 0],  # Requisito 17\n",
    "    [0, 0, 0, 0, 0, 0, 0, 0, 0, 0, 0, 0, 0, 0, 0, 0, 0, 1, 0, 0],  # Requisito 18\n",
    "    [0, 0, 0, 0, 0, 0, 0, 0, 0, 0, 0, 0, 0, 0, 0, 0, 0, 0, 1, 0],  # Requisito 19\n",
    "    [0, 0, 0, 0, 0, 0, 0, 0, 0, 0, 0, 0, 0, 0, 0, 0, 0, 0, 0, 1]   # Requisito 20\n",
    "]\n",
    "\n",
    "cm = [\n",
    "    [1, 0, 1, 0, 1, 0, 1, 0, 1, 0, 1, 0, 1, 0, 1, 0, 1, 0, 1, 0],  # Cliente 1\n",
    "    [0, 1, 0, 1, 0, 1, 0, 1, 0, 1, 0, 1, 0, 1, 0, 1, 0, 1, 0, 1],  # Cliente 2\n",
    "    [1, 0, 1, 0, 1, 0, 1, 0, 1, 0, 1, 0, 1, 0, 1, 0, 1, 0, 1, 0],  # Cliente 3\n",
    "    [0, 1, 0, 1, 0, 1, 0, 1, 0, 1, 0, 1, 0, 1, 0, 1, 0, 1, 0, 1],  # Cliente 4\n",
    "    [1, 0, 1, 0, 1, 0, 1, 0, 1, 0, 1, 0, 1, 0, 1, 0, 1, 0, 1, 0]   # Cliente 5\n",
    "]"
   ]
  },
  {
   "cell_type": "code",
   "execution_count": 341,
   "id": "ec20f3bb-eba3-4855-88bb-e721a1102289",
   "metadata": {},
   "outputs": [],
   "source": [
    "# Função Objetivo\n",
    "model.obj = Objective(expr =  sum(model.y[i] * v[i] for i in range(n)), sense = maximize)"
   ]
  },
  {
   "cell_type": "code",
   "execution_count": 342,
   "id": "13f14a5e-3a69-411d-a62a-32407e4d7ad5",
   "metadata": {},
   "outputs": [],
   "source": [
    "# Restrição de Limitação de Custo\n",
    "model.costTotalConstraint = Constraint(expr = sum(model.x[i] * c[i] for i in range(m)) <= L)"
   ]
  },
  {
   "cell_type": "code",
   "execution_count": 343,
   "id": "9cb1e794-4c0a-4587-a18d-43d566cfd480",
   "metadata": {},
   "outputs": [],
   "source": [
    "# Restrição de dependência entre requisitos \n",
    "for i in range(m):\n",
    "    for j in range(i + 1, m):\n",
    "        if i < len(dm) and j < len(dm[i]):\n",
    "            if 'reqDependency' in model.component_map(Constraint):\n",
    "                model.del_component(model.reqDependency)\n",
    "            model.add_component('reqDependency', Constraint(expr=model.x[i] >= model.x[j] - dm[i][j]))"
   ]
  },
  {
   "cell_type": "code",
   "execution_count": 344,
   "id": "17406578-66fb-435b-a22d-4c1b5bda55d1",
   "metadata": {},
   "outputs": [],
   "source": [
    "# Restrição para garantir a implementação de todos os requisitos do cliente selecionado\n",
    "for i in range(m):\n",
    "    for j in range(i + 1, n):\n",
    "        if 'reqClientValidity' in model.component_map(Constraint):\n",
    "            model.del_component(model.reqClientValidity)\n",
    "        model.add_component('reqClientValidity', Constraint(expr=model.x[i] >= model.y[j] - cm[i][j]))"
   ]
  },
  {
   "cell_type": "code",
   "execution_count": 345,
   "id": "3780664d-4b05-47e5-8da4-e204f999624a",
   "metadata": {},
   "outputs": [],
   "source": [
    "# Resolve o modelo\n",
    "solver = SolverFactory('glpk')\n",
    "results = solver.solve(model)"
   ]
  },
  {
   "cell_type": "code",
   "execution_count": 346,
   "id": "6f7a67aa-8578-435a-bdf3-0207296a45bb",
   "metadata": {},
   "outputs": [
    {
     "name": "stdout",
     "output_type": "stream",
     "text": [
      "Valores das variáveis x:\n",
      "x[0] = 0.0\n",
      "x[1] = 0.0\n",
      "x[2] = 0.0\n",
      "x[3] = 1.0\n",
      "x[4] = 0.0\n",
      "x[5] = 0.0\n",
      "x[6] = 0.0\n",
      "x[7] = 0.0\n",
      "x[8] = 0.0\n",
      "x[9] = 0.0\n",
      "x[10] = 0.0\n",
      "x[11] = 0.0\n",
      "x[12] = 0.0\n",
      "x[13] = 0.0\n",
      "x[14] = 0.0\n",
      "x[15] = 0.0\n",
      "x[16] = 0.0\n",
      "x[17] = 0.0\n",
      "x[18] = 0.0\n",
      "x[19] = 0.0\n",
      "Valores das variáveis y:\n",
      "y[0] = 1.0\n",
      "y[1] = 1.0\n",
      "y[2] = 1.0\n",
      "y[3] = 1.0\n",
      "y[4] = 1.0\n"
     ]
    }
   ],
   "source": [
    "# Imprime os valores das variáveis de decisão x\n",
    "print(\"Valores das variáveis x:\")\n",
    "for i in range(m):\n",
    "    print(f\"x[{i}] = {model.x[i].value}\")\n",
    "\n",
    "# Imprime os valores das variáveis de decisão y\n",
    "print(\"Valores das variáveis y:\")\n",
    "for j in range(n):\n",
    "    print(f\"y[{j}] = {model.y[j].value}\")"
   ]
  },
  {
   "cell_type": "code",
   "execution_count": 347,
   "id": "e58b3fb7-d1d4-492f-8429-549add25cdbe",
   "metadata": {},
   "outputs": [
    {
     "name": "stdout",
     "output_type": "stream",
     "text": [
      "Valor da restrição de Limitação de Custo: 3.0\n",
      "Valor da restrição de dependência entre requisitos 0 e 1: True\n",
      "Valor da restrição de dependência entre requisitos 1 e 2: True\n",
      "Valor da restrição de dependência entre requisitos 2 e 3: False\n",
      "Valor da restrição de dependência entre requisitos 3 e 4: True\n",
      "Valor da restrição de dependência entre requisitos 4 e 5: True\n",
      "Valor da restrição de dependência entre requisitos 5 e 6: True\n",
      "Valor da restrição de dependência entre requisitos 6 e 7: True\n",
      "Valor da restrição de dependência entre requisitos 7 e 8: True\n",
      "Valor da restrição de dependência entre requisitos 8 e 9: True\n",
      "Valor da restrição de dependência entre requisitos 9 e 10: True\n",
      "Valor da restrição de dependência entre requisitos 10 e 11: True\n",
      "Valor da restrição de dependência entre requisitos 11 e 12: True\n",
      "Valor da restrição de dependência entre requisitos 12 e 13: True\n",
      "Valor da restrição de dependência entre requisitos 13 e 14: True\n",
      "Valor da restrição de dependência entre requisitos 14 e 15: True\n",
      "Valor da restrição de dependência entre requisitos 15 e 16: True\n",
      "Valor da restrição de dependência entre requisitos 16 e 17: True\n",
      "Valor da restrição de dependência entre requisitos 17 e 18: True\n",
      "Valor da restrição de dependência entre requisitos 18 e 19: True\n",
      "Valor da restrição para requisito 0 e cliente 0: False\n",
      "Valor da restrição para requisito 0 e cliente 1: False\n",
      "Valor da restrição para requisito 0 e cliente 2: False\n",
      "Valor da restrição para requisito 0 e cliente 3: False\n",
      "Valor da restrição para requisito 0 e cliente 4: False\n",
      "Valor da restrição para requisito 1 e cliente 0: False\n",
      "Valor da restrição para requisito 1 e cliente 1: False\n",
      "Valor da restrição para requisito 1 e cliente 2: False\n",
      "Valor da restrição para requisito 1 e cliente 3: False\n",
      "Valor da restrição para requisito 1 e cliente 4: False\n",
      "Valor da restrição para requisito 2 e cliente 0: False\n",
      "Valor da restrição para requisito 2 e cliente 1: False\n",
      "Valor da restrição para requisito 2 e cliente 2: False\n",
      "Valor da restrição para requisito 2 e cliente 3: False\n",
      "Valor da restrição para requisito 2 e cliente 4: False\n",
      "Valor da restrição para requisito 3 e cliente 0: False\n",
      "Valor da restrição para requisito 3 e cliente 1: False\n",
      "Valor da restrição para requisito 3 e cliente 2: False\n",
      "Valor da restrição para requisito 3 e cliente 3: False\n",
      "Valor da restrição para requisito 3 e cliente 4: False\n",
      "Valor da restrição para requisito 4 e cliente 0: False\n",
      "Valor da restrição para requisito 4 e cliente 1: False\n",
      "Valor da restrição para requisito 4 e cliente 2: False\n",
      "Valor da restrição para requisito 4 e cliente 3: False\n",
      "Valor da restrição para requisito 4 e cliente 4: False\n",
      "Valor da restrição para requisito 5 e cliente 0: False\n",
      "Valor da restrição para requisito 5 e cliente 1: False\n",
      "Valor da restrição para requisito 5 e cliente 2: False\n",
      "Valor da restrição para requisito 5 e cliente 3: False\n",
      "Valor da restrição para requisito 5 e cliente 4: False\n",
      "Valor da restrição para requisito 6 e cliente 0: False\n",
      "Valor da restrição para requisito 6 e cliente 1: False\n",
      "Valor da restrição para requisito 6 e cliente 2: False\n",
      "Valor da restrição para requisito 6 e cliente 3: False\n",
      "Valor da restrição para requisito 6 e cliente 4: False\n",
      "Valor da restrição para requisito 7 e cliente 0: False\n",
      "Valor da restrição para requisito 7 e cliente 1: False\n",
      "Valor da restrição para requisito 7 e cliente 2: False\n",
      "Valor da restrição para requisito 7 e cliente 3: False\n",
      "Valor da restrição para requisito 7 e cliente 4: False\n",
      "Valor da restrição para requisito 8 e cliente 0: False\n",
      "Valor da restrição para requisito 8 e cliente 1: False\n",
      "Valor da restrição para requisito 8 e cliente 2: False\n",
      "Valor da restrição para requisito 8 e cliente 3: False\n",
      "Valor da restrição para requisito 8 e cliente 4: False\n",
      "Valor da restrição para requisito 9 e cliente 0: False\n",
      "Valor da restrição para requisito 9 e cliente 1: False\n",
      "Valor da restrição para requisito 9 e cliente 2: False\n",
      "Valor da restrição para requisito 9 e cliente 3: False\n",
      "Valor da restrição para requisito 9 e cliente 4: False\n",
      "Valor da restrição para requisito 10 e cliente 0: False\n",
      "Valor da restrição para requisito 10 e cliente 1: False\n",
      "Valor da restrição para requisito 10 e cliente 2: False\n",
      "Valor da restrição para requisito 10 e cliente 3: False\n",
      "Valor da restrição para requisito 10 e cliente 4: False\n",
      "Valor da restrição para requisito 11 e cliente 0: False\n",
      "Valor da restrição para requisito 11 e cliente 1: False\n",
      "Valor da restrição para requisito 11 e cliente 2: False\n",
      "Valor da restrição para requisito 11 e cliente 3: False\n",
      "Valor da restrição para requisito 11 e cliente 4: False\n",
      "Valor da restrição para requisito 12 e cliente 0: False\n",
      "Valor da restrição para requisito 12 e cliente 1: False\n",
      "Valor da restrição para requisito 12 e cliente 2: False\n",
      "Valor da restrição para requisito 12 e cliente 3: False\n",
      "Valor da restrição para requisito 12 e cliente 4: False\n",
      "Valor da restrição para requisito 13 e cliente 0: False\n",
      "Valor da restrição para requisito 13 e cliente 1: False\n",
      "Valor da restrição para requisito 13 e cliente 2: False\n",
      "Valor da restrição para requisito 13 e cliente 3: False\n",
      "Valor da restrição para requisito 13 e cliente 4: False\n",
      "Valor da restrição para requisito 14 e cliente 0: False\n",
      "Valor da restrição para requisito 14 e cliente 1: False\n",
      "Valor da restrição para requisito 14 e cliente 2: False\n",
      "Valor da restrição para requisito 14 e cliente 3: False\n",
      "Valor da restrição para requisito 14 e cliente 4: False\n",
      "Valor da restrição para requisito 15 e cliente 0: False\n",
      "Valor da restrição para requisito 15 e cliente 1: False\n",
      "Valor da restrição para requisito 15 e cliente 2: False\n",
      "Valor da restrição para requisito 15 e cliente 3: False\n",
      "Valor da restrição para requisito 15 e cliente 4: False\n",
      "Valor da restrição para requisito 16 e cliente 0: False\n",
      "Valor da restrição para requisito 16 e cliente 1: False\n",
      "Valor da restrição para requisito 16 e cliente 2: False\n",
      "Valor da restrição para requisito 16 e cliente 3: False\n",
      "Valor da restrição para requisito 16 e cliente 4: False\n",
      "Valor da restrição para requisito 17 e cliente 0: False\n",
      "Valor da restrição para requisito 17 e cliente 1: False\n",
      "Valor da restrição para requisito 17 e cliente 2: False\n",
      "Valor da restrição para requisito 17 e cliente 3: False\n",
      "Valor da restrição para requisito 17 e cliente 4: False\n",
      "Valor da restrição para requisito 18 e cliente 0: False\n",
      "Valor da restrição para requisito 18 e cliente 1: False\n",
      "Valor da restrição para requisito 18 e cliente 2: False\n",
      "Valor da restrição para requisito 18 e cliente 3: False\n",
      "Valor da restrição para requisito 18 e cliente 4: False\n",
      "Valor da restrição para requisito 19 e cliente 0: False\n",
      "Valor da restrição para requisito 19 e cliente 1: False\n",
      "Valor da restrição para requisito 19 e cliente 2: False\n",
      "Valor da restrição para requisito 19 e cliente 3: False\n",
      "Valor da restrição para requisito 19 e cliente 4: False\n"
     ]
    }
   ],
   "source": [
    "# Imprime o valor da restrição de Limitação de Custo\n",
    "print(f\"Valor da restrição de Limitação de Custo: {sum(model.x[i].value * c[i] for i in range(m))}\")\n",
    "\n",
    "# Imprime os valores das restrições de dependência entre requisitos\n",
    "for i in range(m - 1):\n",
    "    print(f\"Valor da restrição de dependência entre requisitos {i} e {i+1}: {model.x[i].value >= model.x[i+1].value}\")\n",
    "\n",
    "# Imprime os valores das restrições para garantir a implementação de todos os requisitos do cliente selecionado\n",
    "for i in range(m):\n",
    "    for j in range(n):\n",
    "        print(f\"Valor da restrição para requisito {i} e cliente {j}: {model.x[i].value > model.y[j].value}\")\n"
   ]
  },
  {
   "cell_type": "code",
   "execution_count": 348,
   "id": "e43e9d0a-34e3-480a-9c0f-f48c4714ac0b",
   "metadata": {},
   "outputs": [
    {
     "name": "stdout",
     "output_type": "stream",
     "text": [
      "O solver encontrou solução ótima.\n"
     ]
    }
   ],
   "source": [
    "# Verifica se a solução foi encontrada com sucesso\n",
    "if results.solver.status == SolverStatus.ok and results.solver.termination_condition == TerminationCondition.optimal:\n",
    "    print(\"O solver encontrou solução ótima.\")\n",
    "else:\n",
    "    print(\"O solver não encontrou uma solução ótima.\")"
   ]
  },
  {
   "cell_type": "code",
   "execution_count": null,
   "id": "0c937d47-1c22-4b7a-ac3c-80b2d9dda253",
   "metadata": {},
   "outputs": [],
   "source": []
  },
  {
   "cell_type": "code",
   "execution_count": null,
   "id": "be4fa46e-aeb2-4675-928d-d659cffd7c5a",
   "metadata": {},
   "outputs": [],
   "source": []
  },
  {
   "cell_type": "code",
   "execution_count": null,
   "id": "8620b7fd-6710-4367-a451-724a9871dfa5",
   "metadata": {},
   "outputs": [],
   "source": []
  }
 ],
 "metadata": {
  "kernelspec": {
   "display_name": "Python 3 (ipykernel)",
   "language": "python",
   "name": "python3"
  },
  "language_info": {
   "codemirror_mode": {
    "name": "ipython",
    "version": 3
   },
   "file_extension": ".py",
   "mimetype": "text/x-python",
   "name": "python",
   "nbconvert_exporter": "python",
   "pygments_lexer": "ipython3",
   "version": "3.10.2"
  }
 },
 "nbformat": 4,
 "nbformat_minor": 5
}
