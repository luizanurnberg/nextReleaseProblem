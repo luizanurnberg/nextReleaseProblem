{
 "cells": [
  {
   "cell_type": "code",
   "execution_count": 12,
   "id": "0c2689e1-04d0-4f9c-a91d-b104c5b2b2d2",
   "metadata": {},
   "outputs": [],
   "source": [
    "# Importação do Pyomo\n",
    "from pyomo.environ import *"
   ]
  },
  {
   "cell_type": "code",
   "execution_count": 13,
   "id": "8148a45d-705c-4946-b54d-06af70e7a36b",
   "metadata": {},
   "outputs": [],
   "source": [
    "model = ConcreteModel()"
   ]
  },
  {
   "cell_type": "code",
   "execution_count": 14,
   "id": "d83963ef-5553-4d86-bd75-03329bbf41cb",
   "metadata": {},
   "outputs": [],
   "source": [
    "# Dados do problema\n",
    "n = 10 # quantidade de clientes\n",
    "v = [0] * n # Importância do cliente para a empresa\n",
    "c = [0] * n # custo de cada requisito\n",
    "B = 10"
   ]
  },
  {
   "cell_type": "code",
   "execution_count": 4,
   "id": "c2a3d506",
   "metadata": {},
   "outputs": [],
   "source": [
    "# Instâncias\n",
    "n = 5\n",
    "v = [1, 3, 2, 2, 5]\n",
    "c = [10, 15, 3, 7, 18]\n",
    "B = 25"
   ]
  },
  {
   "cell_type": "code",
   "execution_count": 5,
   "id": "a2278fb3-ea3e-40ca-88f5-f5dcc5bba51a",
   "metadata": {},
   "outputs": [],
   "source": [
    "# Variáveis de Decisão\n",
    "model.x = Var(range(n), domain=Binary) # Requisito implementado\n",
    "model.y = Var(range(n), domain=Binary) # Cliente a ser atendido"
   ]
  },
  {
   "cell_type": "code",
   "execution_count": 6,
   "id": "ec20f3bb-eba3-4855-88bb-e721a1102289",
   "metadata": {},
   "outputs": [],
   "source": [
    "# Função Objetivo\n",
    "model.obj = Objective(expr =  sum(model.y[i] * v[i] for i in range(n)), sense = maximize)"
   ]
  },
  {
   "cell_type": "code",
   "execution_count": 7,
   "id": "13f14a5e-3a69-411d-a62a-32407e4d7ad5",
   "metadata": {},
   "outputs": [
    {
     "name": "stdout",
     "output_type": "stream",
     "text": [
      "O solver encontrou solução ótima.\n"
     ]
    }
   ],
   "source": [
    "# Restrição de Limitação de Custo\n",
    "model.costTotalConstraint = Constraint(expr = sum(model.x[i] * c[i] for i in range(n)) <= B)\n",
    "\n",
    "# Resolve o modelo\n",
    "solver = SolverFactory('glpk')\n",
    "results = solver.solve(model)\n",
    "\n",
    "# Verifica se a solução foi encontrada com sucesso\n",
    "if results.solver.status == SolverStatus.ok and results.solver.termination_condition == TerminationCondition.optimal:\n",
    "    print(\"O solver encontrou solução ótima.\")\n",
    "else:\n",
    "    print(\"O solver não encontrou uma solução ótima.\")"
   ]
  },
  {
   "cell_type": "code",
   "execution_count": null,
   "id": "9cb1e794-4c0a-4587-a18d-43d566cfd480",
   "metadata": {},
   "outputs": [],
   "source": []
  }
 ],
 "metadata": {
  "kernelspec": {
   "display_name": "Python 3 (ipykernel)",
   "language": "python",
   "name": "python3"
  },
  "language_info": {
   "codemirror_mode": {
    "name": "ipython",
    "version": 3
   },
   "file_extension": ".py",
   "mimetype": "text/x-python",
   "name": "python",
   "nbconvert_exporter": "python",
   "pygments_lexer": "ipython3",
   "version": "3.10.2"
  }
 },
 "nbformat": 4,
 "nbformat_minor": 5
}
