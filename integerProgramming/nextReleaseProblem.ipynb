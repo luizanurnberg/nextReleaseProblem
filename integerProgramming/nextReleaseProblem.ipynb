{
 "cells": [
  {
   "cell_type": "code",
   "execution_count": 7,
   "id": "0c2689e1-04d0-4f9c-a91d-b104c5b2b2d2",
   "metadata": {},
   "outputs": [],
   "source": [
    "# Importação do Pyomo\n",
    "from pyomo.environ import *"
   ]
  },
  {
   "cell_type": "code",
   "execution_count": 8,
   "id": "8148a45d-705c-4946-b54d-06af70e7a36b",
   "metadata": {},
   "outputs": [],
   "source": [
    "model = ConcreteModel()"
   ]
  },
  {
   "cell_type": "code",
   "execution_count": 9,
   "id": "d83963ef-5553-4d86-bd75-03329bbf41cb",
   "metadata": {},
   "outputs": [],
   "source": [
    "# Dados do problema\n",
    "n = 2 # Quantidade de clientes (Esse valor não varia)\n",
    "m = 2 # Quantidade de requisitos (Essa variar também)\n",
    "L = 100 # Limitação do custo de implementação da empresa\n",
    "v = [random.randint(1, 10) for _ in range(n)] # Importância do cliente para a empresa\n",
    "c = [random.randint(1, 10) for _ in range(m)] # Custo de cada requisito\n",
    "dm = [[random.randint(0, 1) for _ in range(m)] for _ in range(m)] # Matriz de associação de requisitos\n",
    "cm = [[random.randint(0, 1) for _ in range(m)] for _ in range(n)]  # Matriz de associação de clientes"
   ]
  },
  {
   "cell_type": "code",
   "execution_count": 10,
   "id": "a2278fb3-ea3e-40ca-88f5-f5dcc5bba51a",
   "metadata": {},
   "outputs": [],
   "source": [
    "# Variáveis de Decisão\n",
    "model.x = Var(range(m), domain=Binary) # Requisito implementado\n",
    "model.y = Var(range(n), domain=Binary) # Cliente a ser atendido"
   ]
  },
  {
   "cell_type": "code",
   "execution_count": 11,
   "id": "ec20f3bb-eba3-4855-88bb-e721a1102289",
   "metadata": {},
   "outputs": [],
   "source": [
    "# Função Objetivo\n",
    "model.obj = Objective(expr = sum(model.y[i] * v[i] for i in range(n)), sense = maximize)"
   ]
  },
  {
   "cell_type": "code",
   "execution_count": 12,
   "id": "13f14a5e-3a69-411d-a62a-32407e4d7ad5",
   "metadata": {},
   "outputs": [],
   "source": [
    "# Restrição de Limitação de Custo\n",
    "model.add_component(f'costTotalConstraint-', Constraint(expr = sum(model.x[i] * c[i] for i in range(m)) <= L))"
   ]
  },
  {
   "cell_type": "code",
   "execution_count": 13,
   "id": "9cb1e794-4c0a-4587-a18d-43d566cfd480",
   "metadata": {},
   "outputs": [],
   "source": [
    "# Restrição de dependência entre requisitos \n",
    "for i in range(m):\n",
    "    for j in range(m):\n",
    "        if dm[i][j] == 1:\n",
    "            # In this case, requirement j depends on requirement i, so x_i >= x_j\n",
    "            model.add_component(f'reqDependency-{i}-{j}', Constraint(expr=model.x[i] >= model.x[j]))"
   ]
  },
  {
   "cell_type": "code",
   "execution_count": 14,
   "id": "17406578-66fb-435b-a22d-4c1b5bda55d1",
   "metadata": {},
   "outputs": [],
   "source": [
    "# Restrição para garantir a implementação de todos os requisitos do cliente selecionado\n",
    "for cli in range(n):\n",
    "    for req in range(m):\n",
    "        if cm[cli][req] == 1:\n",
    "            # In this case, requirement \"req\" is associated to client \"cli\", so x_req >= y_cli\n",
    "            model.add_component(f'reqClientValidity-{cli}-{req}', Constraint(expr=model.x[req] >= model.y[cli]))"
   ]
  },
  {
   "cell_type": "code",
   "execution_count": 15,
   "id": "3780664d-4b05-47e5-8da4-e204f999624a",
   "metadata": {},
   "outputs": [
    {
     "name": "stdout",
     "output_type": "stream",
     "text": [
      "# ==========================================================\n",
      "# = Solver Results                                         =\n",
      "# ==========================================================\n",
      "# ----------------------------------------------------------\n",
      "#   Problem Information\n",
      "# ----------------------------------------------------------\n",
      "Problem: \n",
      "- Name: unknown\n",
      "  Lower bound: 16.0\n",
      "  Upper bound: 16.0\n",
      "  Number of objectives: 1\n",
      "  Number of constraints: 3\n",
      "  Number of variables: 4\n",
      "  Number of nonzeros: 6\n",
      "  Sense: maximize\n",
      "# ----------------------------------------------------------\n",
      "#   Solver Information\n",
      "# ----------------------------------------------------------\n",
      "Solver: \n",
      "- Status: ok\n",
      "  Termination condition: optimal\n",
      "  Statistics: \n",
      "    Branch and bound: \n",
      "      Number of bounded subproblems: 1\n",
      "      Number of created subproblems: 1\n",
      "  Error rc: 0\n",
      "  Time: 0.02534031867980957\n",
      "# ----------------------------------------------------------\n",
      "#   Solution Information\n",
      "# ----------------------------------------------------------\n",
      "Solution: \n",
      "- number of solutions: 0\n",
      "  number of solutions displayed: 0\n",
      "\n",
      "\n",
      "Selected clients\n",
      "1.0\n",
      "0.0\n",
      "1.0\n",
      "0.0\n",
      "1.0\n",
      "\n",
      "\n",
      "Requirements for the next release\n",
      "1.0\n",
      "0.0\n",
      "1.0\n",
      "Objective function: 16.0\n"
     ]
    }
   ],
   "source": [
    "# Resolve o modelo\n",
    "solver = SolverFactory('glpk')\n",
    "results = solver.solve(model, timelimit = 100).write()\n",
    "print(f'\\n\\nSelected clients')\n",
    "for i in range(n):\n",
    "    print(model.y[i]())\n",
    "\n",
    "print(f'\\n\\nRequirements for the next release')\n",
    "for i in range(m):\n",
    "    print(model.x[i]())\n",
    "    \n",
    "print(f'Objective function: {model.obj.expr()}')"
   ]
  },
  {
   "cell_type": "code",
   "execution_count": null,
   "id": "4681aa55-cd53-4cac-ba83-e0c9ace2148e",
   "metadata": {},
   "outputs": [],
   "source": []
  },
  {
   "cell_type": "code",
   "execution_count": null,
   "id": "972fc3dd-e558-4af1-8c07-643da4b023df",
   "metadata": {},
   "outputs": [],
   "source": []
  }
 ],
 "metadata": {
  "kernelspec": {
   "display_name": "Python 3 (ipykernel)",
   "language": "python",
   "name": "python3"
  },
  "language_info": {
   "codemirror_mode": {
    "name": "ipython",
    "version": 3
   },
   "file_extension": ".py",
   "mimetype": "text/x-python",
   "name": "python",
   "nbconvert_exporter": "python",
   "pygments_lexer": "ipython3",
   "version": "3.8.10"
  }
 },
 "nbformat": 4,
 "nbformat_minor": 5
}
